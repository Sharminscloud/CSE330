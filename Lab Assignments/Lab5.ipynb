{
  "cells": [
    {
      "cell_type": "markdown",
      "metadata": {
        "id": "GFTU2wdkniIm"
      },
      "source": [
        "Make sure you remove `raise NotImplementedError()` and fill in any place that says `# YOUR CODE HERE`, as well as your `NAME`, `ID`, and `SECTION` below:"
      ]
    },
    {
      "cell_type": "code",
      "execution_count": null,
      "metadata": {
        "id": "_YdsSAs2niIp"
      },
      "outputs": [],
      "source": [
        "NAME = \"\"\n",
        "ID = \"\"\n",
        "SECTION = \"\""
      ]
    },
    {
      "cell_type": "markdown",
      "metadata": {
        "id": "jdnaNvhuniIq"
      },
      "source": [
        "---"
      ]
    },
    {
      "cell_type": "markdown",
      "metadata": {
        "deletable": false,
        "editable": false,
        "id": "R5Ww4EkPniIq",
        "nbgrader": {
          "cell_type": "markdown",
          "checksum": "31fb11c70a54ee80334fd46296bb41a9",
          "grade": false,
          "grade_id": "title",
          "locked": true,
          "schema_version": 3,
          "solution": false,
          "task": false
        }
      },
      "source": [
        "# Part 1: Differentiation: Forward, Backward, And Central\n",
        "---"
      ]
    },
    {
      "cell_type": "markdown",
      "metadata": {
        "deletable": false,
        "editable": false,
        "id": "1TubZiiCniIr",
        "nbgrader": {
          "cell_type": "markdown",
          "checksum": "e468d74747ac31989047012831dada29",
          "grade": false,
          "grade_id": "intro1",
          "locked": true,
          "schema_version": 3,
          "solution": false,
          "task": false
        }
      },
      "source": [
        "## Task 1: Differentiation\n",
        "\n",
        "We have already learnt about *forward differentiation*, *backward diferentiation* and *central differentiation*. In this part of the assignment we will write methods to calculate this values and check how they perform.\n",
        "\n",
        "The equations are as follows,\n",
        "\n",
        "\\begin{align}\n",
        "\\text{forward differentiation}, f^\\prime(x) \\simeq \\frac{f(x+h)-f(x)}{h} \\tag{4.6} \\\\\n",
        "\\text{backward differentiation}, f^\\prime(x) \\simeq \\frac{f(x)-f(x-h)}{h} \\tag{4.7} \\\\\n",
        "\\text{central differentiation}, f^\\prime(x) \\simeq \\frac{f(x+h)-f(x-h)}{2h} \\tag{4.8}\n",
        "\\end{align}"
      ]
    },
    {
      "cell_type": "markdown",
      "metadata": {
        "deletable": false,
        "editable": false,
        "id": "pIBK7HnjniIr",
        "nbgrader": {
          "cell_type": "markdown",
          "checksum": "44a5e3bdd8c3312004e5f0d5a2445f0a",
          "grade": false,
          "grade_id": "import_title",
          "locked": true,
          "schema_version": 3,
          "solution": false,
          "task": false
        }
      },
      "source": [
        "## Importing libraries"
      ]
    },
    {
      "cell_type": "code",
      "execution_count": null,
      "metadata": {
        "deletable": false,
        "editable": false,
        "id": "epJf8XziniIr",
        "nbgrader": {
          "cell_type": "code",
          "checksum": "a7148ac6f4c0dd4988d53d4881981065",
          "grade": false,
          "grade_id": "import",
          "locked": true,
          "schema_version": 3,
          "solution": false,
          "task": false
        }
      },
      "outputs": [],
      "source": [
        "import numpy as np\n",
        "import pandas as pd\n",
        "import matplotlib.pyplot as plt\n",
        "from numpy.polynomial import Polynomial"
      ]
    },
    {
      "cell_type": "markdown",
      "metadata": {
        "deletable": false,
        "editable": false,
        "id": "KmP8RCT3niIr",
        "nbgrader": {
          "cell_type": "markdown",
          "checksum": "cfbebe9fb3e9e5bb7be94c49dec11860",
          "grade": false,
          "grade_id": "intro2",
          "locked": true,
          "schema_version": 3,
          "solution": false,
          "task": false
        }
      },
      "source": [
        "Here, `forward_diff(f, h, x)`, `backward_diff(f, h, x)`, and `central_diff(f, h, x)` calculates the *forward differentiation*, *backward differentiation* and *central differentiation* respectively. finally the `error(f, f_prime, h, x)` method calculates the different values for various $h$ and returns the errors.\n",
        "\n",
        "Later we will run some code to test out performance. The first one is done for you."
      ]
    },
    {
      "cell_type": "code",
      "execution_count": null,
      "metadata": {
        "deletable": false,
        "editable": false,
        "id": "7oSOuaeBniIs",
        "nbgrader": {
          "cell_type": "code",
          "checksum": "3b739b87fbfe1e083c19cf1bbc9c2ce8",
          "grade": false,
          "grade_id": "forward_diff",
          "locked": true,
          "schema_version": 3,
          "solution": false,
          "task": false
        }
      },
      "outputs": [],
      "source": [
        "def forward_diff(f, h, x):\n",
        "    return (f(x+h) - f(x)) / h"
      ]
    },
    {
      "cell_type": "code",
      "execution_count": null,
      "metadata": {
        "deletable": false,
        "id": "tKtd6Eu0niIs",
        "nbgrader": {
          "cell_type": "code",
          "checksum": "0cb87db30de0598962299368691d0edd",
          "grade": false,
          "grade_id": "back_diff_ans",
          "locked": false,
          "schema_version": 3,
          "solution": true,
          "task": false
        }
      },
      "outputs": [],
      "source": [
        "def backward_diff(f, h, x):\n",
        "    # --------------------------------------------\n",
        "    # YOUR CODE HERE\n",
        "    return (f(x) - f(x-h))/h\n",
        "    # --------------------------------------------"
      ]
    },
    {
      "cell_type": "code",
      "execution_count": null,
      "metadata": {
        "deletable": false,
        "id": "1GxrT8aRniIs",
        "nbgrader": {
          "cell_type": "code",
          "checksum": "a75b0ba4a2abb685be2efa1be512f179",
          "grade": false,
          "grade_id": "cantral_diff_ans",
          "locked": false,
          "schema_version": 3,
          "solution": true,
          "task": false
        }
      },
      "outputs": [],
      "source": [
        "def central_diff(f, h, x):\n",
        "    # --------------------------------------------\n",
        "    # YOUR CODE HERE\n",
        "    return (f(x+h)-f(x-h))/2*h\n",
        "    # --------------------------------------------"
      ]
    },
    {
      "cell_type": "code",
      "execution_count": null,
      "metadata": {
        "deletable": false,
        "id": "dbRHs7V6niIt",
        "nbgrader": {
          "cell_type": "code",
          "checksum": "0eb3740dca1fb9f5613856d0580be41d",
          "grade": false,
          "grade_id": "error_ans",
          "locked": false,
          "schema_version": 3,
          "solution": true,
          "task": false
        }
      },
      "outputs": [],
      "source": [
        "def error_1(f, f_prime, h, x):\n",
        "    Y_correct = f_prime(x)\n",
        "    f_error = np.array([])\n",
        "    b_error = np.array([])\n",
        "    c_error = np.array([])\n",
        "    \n",
        "    for h_i in h:\n",
        "        # for different values of h (h_i)\n",
        "        # calculate the error at the point x for  (i) forward method \n",
        "        #                                         (ii) backward method\n",
        "        #                                         (ii) central method\n",
        "        # the first one is done for you\n",
        "        f_error_h_i = forward_diff(f, h_i, x) - Y_correct\n",
        "        f_error = np.append(f_error, f_error_h_i)\n",
        "\n",
        "        # --------------------------------------------\n",
        "        # YOUR CODE HERE\n",
        "        b_error_h_i = backward_diff(f,h_i,x) - Y_correct\n",
        "        b_error = np.append(b_error,b_error_h_i)\n",
        "        c_error_h_i = central_diff(f,h_i,x) - Y_correct\n",
        "        c_error = np.append(c_error,c_error_h_i)\n",
        "        # --------------------------------------------\n",
        "        pass\n",
        "    \n",
        "    return f_error, b_error, c_error"
      ]
    },
    {
      "cell_type": "markdown",
      "metadata": {
        "deletable": false,
        "editable": false,
        "id": "6RU3khcrniIt",
        "nbgrader": {
          "cell_type": "markdown",
          "checksum": "bbb9dfcedd891a43d4c750215b1417cd",
          "grade": false,
          "grade_id": "cell-d6b27d7515e4ec44",
          "locked": true,
          "schema_version": 3,
          "solution": false,
          "task": false
        }
      },
      "source": [
        "## Plot1\n",
        "Polynomial and Actual Derivative Function"
      ]
    },
    {
      "cell_type": "code",
      "execution_count": null,
      "metadata": {
        "deletable": false,
        "editable": false,
        "id": "XzmE60qeniIu",
        "nbgrader": {
          "cell_type": "code",
          "checksum": "e2477b723a8be2c24e1d051075e8749c",
          "grade": false,
          "grade_id": "plt1",
          "locked": true,
          "schema_version": 3,
          "solution": false,
          "task": false
        },
        "outputId": "c271cd3d-aa81-411f-8b6d-8ed3d4205582"
      },
      "outputs": [
        {
          "data": {
            "text/plain": [
              "<matplotlib.legend.Legend at 0x7f98b9e3bc40>"
            ]
          },
          "execution_count": 42,
          "metadata": {},
          "output_type": "execute_result"
        },
        {
          "data": {
            "image/png": "[encoded data removed]",
            "text/plain": [
              "<Figure size 432x288 with 1 Axes>"
            ]
          },
          "metadata": {
            "needs_background": "light"
          },
          "output_type": "display_data"
        }
      ],
      "source": [
        "fig, ax = plt.subplots()\n",
        "ax.axhline(y=0, color='k')\n",
        "\n",
        "p = Polynomial([3.5, 2.0, -10.0, -6.0, 6.0, 3.0])\n",
        "data = p.linspace(domain=[-2.5, 2.0])\n",
        "ax.plot(data[0], data[1], label='Function')\n",
        "\n",
        "p_prime = p.deriv(1)\n",
        "data2 = p_prime.linspace(domain=[-2.5, 2.0])\n",
        "ax.plot(data2[0], data2[1], label='Derivative')\n",
        "\n",
        "ax.legend()"
      ]
    },
    {
      "cell_type": "code",
      "execution_count": null,
      "metadata": {
        "deletable": false,
        "editable": false,
        "id": "lFKcFVDwniIv",
        "nbgrader": {
          "cell_type": "code",
          "checksum": "04304098e81e9ec18e28518a5eb177d6",
          "grade": true,
          "grade_id": "plt2_test",
          "locked": true,
          "points": 2,
          "schema_version": 3,
          "solution": false,
          "task": false
        },
        "outputId": "50999338-0b92-4d1f-d331-c13694148c2e"
      },
      "outputs": [
        {
          "data": {
            "text/plain": [
              "<matplotlib.legend.Legend at 0x7f98d9620160>"
            ]
          },
          "execution_count": 43,
          "metadata": {},
          "output_type": "execute_result"
        },
        {
          "data": {
            "image/png": "[encoded data removed]",
            "text/plain": [
              "<Figure size 432x288 with 1 Axes>"
            ]
          },
          "metadata": {
            "needs_background": "light"
          },
          "output_type": "display_data"
        }
      ],
      "source": [
        "h = 0.5\n",
        "fig, bx = plt.subplots()\n",
        "bx.axhline(y=0, color='k')\n",
        "\n",
        "x = np.linspace(-2.0, 2.3, 50, endpoint=True)\n",
        "y = forward_diff(p, h, x)\n",
        "bx.plot(x, y, label='Forward; h=0.5')\n",
        "y = backward_diff(p, h, x)\n",
        "bx.plot(x, y, label='Backward; h=0.5')\n",
        "y = central_diff(p, h, x)\n",
        "bx.plot(x, y, label='Central; h=0.5')\n",
        "\n",
        "data2 = p_prime.linspace(domain=[-2.2, 2.4])\n",
        "bx.plot(data2[0], data2[1], label='actual')\n",
        "\n",
        "bx.legend()\n"
      ]
    },
    {
      "cell_type": "code",
      "execution_count": null,
      "metadata": {
        "deletable": false,
        "editable": false,
        "id": "z9sU1w9lniIv",
        "nbgrader": {
          "cell_type": "code",
          "checksum": "18a8931acbb2421ebd9752d28037c7ce",
          "grade": true,
          "grade_id": "plt3_test",
          "locked": true,
          "points": 2,
          "schema_version": 3,
          "solution": false,
          "task": false
        },
        "outputId": "41168af9-ae54-4146-b7f6-bc5e0c9e7b14"
      },
      "outputs": [
        {
          "data": {
            "text/plain": [
              "<matplotlib.legend.Legend at 0x7f98d96dc8e0>"
            ]
          },
          "execution_count": 44,
          "metadata": {},
          "output_type": "execute_result"
        },
        {
          "data": {
            "image/png": "[encoded data removed]",
            "text/plain": [
              "<Figure size 432x288 with 1 Axes>"
            ]
          },
          "metadata": {
            "needs_background": "light"
          },
          "output_type": "display_data"
        }
      ],
      "source": [
        "h = 0.09\n",
        "fig, bx = plt.subplots()\n",
        "bx.axhline(y=0, color='k')\n",
        "\n",
        "x = np.linspace(-2.2, 2.3, 50, endpoint=True)\n",
        "y = forward_diff(p, h, x)\n",
        "bx.plot(x, y, label='Forward; h=0.09')\n",
        "y = backward_diff(p, h, x)\n",
        "bx.plot(x, y, label='Backward; h=0.09')\n",
        "y = central_diff(p, h, x)\n",
        "bx.plot(x, y, label='Central; h=0.09')\n",
        "\n",
        "data2 = p_prime.linspace(domain=[-2.2, 2.3])\n",
        "bx.plot(data2[0], data2[1], label='actual')\n",
        "\n",
        "bx.legend()\n"
      ]
    },
    {
      "cell_type": "code",
      "execution_count": null,
      "metadata": {
        "deletable": false,
        "editable": false,
        "id": "QAiVfHxCniIw",
        "nbgrader": {
          "cell_type": "code",
          "checksum": "a68d54e8ab1303582d48ca0a484c013d",
          "grade": true,
          "grade_id": "plt4_test",
          "locked": true,
          "points": 2,
          "schema_version": 3,
          "solution": false,
          "task": false
        },
        "outputId": "ea3e0372-cb8e-440b-e4a3-6bd52ef780d5"
      },
      "outputs": [
        {
          "data": {
            "text/plain": [
              "<matplotlib.legend.Legend at 0x7f98b9f90460>"
            ]
          },
          "execution_count": 45,
          "metadata": {},
          "output_type": "execute_result"
        },
        {
          "data": {
            "image/png": "[encoded data removed]",
            "text/plain": [
              "<Figure size 432x288 with 1 Axes>"
            ]
          },
          "metadata": {
            "needs_background": "light"
          },
          "output_type": "display_data"
        }
      ],
      "source": [
        "h = 0.01\n",
        "fig, bx = plt.subplots()\n",
        "bx.axhline(y=0, color='k')\n",
        "\n",
        "x = np.linspace(-2.2, 2.3, 50, endpoint=True)\n",
        "y = forward_diff(p, h, x)\n",
        "bx.plot(x, y, label='Forward; h=0.01')\n",
        "y = backward_diff(p, h, x)\n",
        "bx.plot(x, y, label='Backward; h=0.01')\n",
        "y = central_diff(p, h, x)\n",
        "bx.plot(x, y, label='Central; h=0.01')\n",
        "\n",
        "data2 = p_prime.linspace(domain=[-2.2, 1.8])\n",
        "bx.plot(data2[0], data2[1], label='actual')\n",
        "\n",
        "bx.legend()\n"
      ]
    },
    {
      "cell_type": "code",
      "execution_count": null,
      "metadata": {
        "deletable": false,
        "editable": false,
        "id": "-ZUdiK_sniIw",
        "nbgrader": {
          "cell_type": "code",
          "checksum": "4d802ba0cb9f6582992226c4898ab0af",
          "grade": true,
          "grade_id": "plt5_test",
          "locked": true,
          "points": 2,
          "schema_version": 3,
          "solution": false,
          "task": false
        },
        "outputId": "d7f36dbe-a05b-4d01-e7e5-1859698b89e4"
      },
      "outputs": [
        {
          "data": {
            "text/plain": [
              "<matplotlib.legend.Legend at 0x7f98d97c9bb0>"
            ]
          },
          "execution_count": 46,
          "metadata": {},
          "output_type": "execute_result"
        },
        {
          "data": {
            "image/png": "[encoded data removed]",
            "text/plain": [
              "<Figure size 432x288 with 1 Axes>"
            ]
          },
          "metadata": {
            "needs_background": "light"
          },
          "output_type": "display_data"
        }
      ],
      "source": [
        "fig, bx = plt.subplots()\n",
        "bx.axhline(y=0, color='k')\n",
        "\n",
        "h = np.array([3.5, 0.55, 0.3, .17, 0.1, 0.055, 0.03, 0.017, 0.01])\n",
        "err = error_1(p, p_prime, h, 2.0)\n",
        "\n",
        "bx.plot(h, err[0], label='Forward')\n",
        "bx.plot(h, err[1], label='Backward')\n",
        "bx.plot(h, err[2], label='Central')\n",
        "bx.legend()\n"
      ]
    },
    {
      "cell_type": "markdown",
      "metadata": {
        "deletable": false,
        "editable": false,
        "id": "Gs3FQ6gGniIw",
        "nbgrader": {
          "cell_type": "markdown",
          "checksum": "c9e5886e4a1a0dcc11d7e19c14146fe9",
          "grade": false,
          "grade_id": "cell-1c9064b8444721b5",
          "locked": true,
          "schema_version": 3,
          "solution": false,
          "task": false
        }
      },
      "source": [
        "## Part 2: Richardson Extrapolation\n",
        "---"
      ]
    },
    {
      "cell_type": "markdown",
      "metadata": {
        "deletable": false,
        "editable": false,
        "id": "VCFJEL7RniIw",
        "nbgrader": {
          "cell_type": "markdown",
          "checksum": "446cd2f0472413299f074ff754675ef8",
          "grade": false,
          "grade_id": "cell-188a9d297b8ffc8e",
          "locked": true,
          "schema_version": 3,
          "solution": false,
          "task": false
        }
      },
      "source": [
        "## Instructions\n",
        "\n",
        "\n",
        "Today's assignment is to:\n",
        "1. Implement Richardson Extrapolation method using Python\n",
        "\n",
        "## Richardson Extrapolation:\n",
        "We used central difference method to calculate derivatives of functions last task. In this task we will use Richardson extrapolation to get a more accurate result.\n",
        "Let,\n",
        "$$ D_h = \\frac{f(x_1+h) -f(x_1-h)}{2h}\\tag{5.1}$$ \n",
        "\n",
        "\n",
        "General Taylor Series formula:\n",
        "$$ f(x) = f(x_1) + f'(x_1)(x - x_1) + \\frac{f''(x_1)}{2}(x - x_1)^2+... $$\n",
        "Using Taylor's theorem to expand we get,\n",
        "\n",
        "\\begin{align}\n",
        "f(x_1+h) &= f(x_1) + f^{\\prime}(x_1)h + \\frac{f^{\\prime \\prime}(x_1)}{2}h^2 + \\frac{f^{\\prime \\prime \\prime}(x_1)}{3!}h^3 + \\frac{f^{(4)}(x_1)}{4!}h^4 + \\frac{f^{(5)}(x_1)}{5!}h^5 + O(h^6)\\tag{5.2} \\\\\n",
        "f(x_1-h) &= f(x_1) - f^{\\prime}(x_1)h + \\frac{f^{\\prime \\prime}(x_1)}{2}h^2 - \\frac{f^{\\prime \\prime \\prime}(x_1)}{3!}h^3 + \\frac{f^{(4)}(x_1)}{4!}h^4 - \\frac{f^{(5)}(x_1)}{5!}h^5 + O(h^6)\\tag{5.3}\n",
        "\\end{align}\n",
        "Subtracting $5.3$ from $5.2$ we get,\n",
        "$$ f(x_1+h) - f(x_1-h) = 2f^{\\prime}(x_1)h + 2\\frac{f^{\\prime \\prime \\prime}(x_1)}{3!}h^3 + 2\\frac{f^{(5)}(x_1)}{5!}h^5 + O(h^7)\\tag{5.4}$$\n",
        "So,\n",
        "\\begin{align}\n",
        "D_h &= \\frac{f(x_1+h) - f(x_1-h)}{2h} \\\\\n",
        "&= \\frac{1}{2h} \\left( 2f^{\\prime}(x_1)h + 2\\frac{f^{\\prime \\prime \\prime}(x_1)}{3!}h^3 + 2\\frac{f^{(5)}(x_1)}{5!}h^5 + O(h^7) \\right) \\\\\n",
        "&= f^{\\prime}(x_1) + \\frac{f^{\\prime \\prime \\prime}(x_1)}{6}h^2 + \\frac{f^{(5)}(x_1)}{120}h^4 + O(h^6) \\tag{5.5}\n",
        "\\end{align}\n",
        "We get our derivative $f'(x)$ plus some error terms of order $>= 2$ Now, we want to bring our error order down to 4.\n",
        "\n",
        "If we use $h, \\text{and} \\frac{h}{2}$ as step size in $5.5$, we get,\n",
        "\\begin{align}\n",
        "D_h &= f^{\\prime}(x_1) + f^{\\prime \\prime \\prime}(x_1)\\frac{h^2}{6} + f^{(5)}(x_1) \\frac{h^4}{120} + O(h^6) \\tag{5.6} \\\\\n",
        "D_{h/2} &= f^{\\prime}(x_1) + f^{\\prime \\prime \\prime}(x_1)\\frac{h^2}{2^2 . 6} + f^{(5)}(x_1) \\frac{h^4}{2^4 . 120} + O(h^6) \\tag{5.7}\n",
        "\\end{align}\n",
        "Multiplying $5.7$ by $4$ and subtracting from $5.6$ we get,\n",
        "\\begin{align}\n",
        "D_h - 4D_{h/2} &= -3f^{\\prime}(x) + f^{(5)}(x_1) \\frac{h^4}{160} + O(h^6)\\\\ \n",
        "\\Longrightarrow D^{(1)}_h = \\frac{4D_{h/2} - D_h}{3} &= f^{\\prime}(x) - f^{(5)}(x_1) \\frac{h^4}{480} + O(h^6) \\tag{5.8}\n",
        "\\end{align}\n",
        "Let's calculate the derivative using $5.8$"
      ]
    },
    {
      "cell_type": "markdown",
      "metadata": {
        "deletable": false,
        "editable": false,
        "id": "EwMxR-plniIx",
        "nbgrader": {
          "cell_type": "markdown",
          "checksum": "5225e4115f21bdcc7141c237dfe0d0d2",
          "grade": false,
          "grade_id": "cell-03b32275bf20e854",
          "locked": true,
          "schema_version": 3,
          "solution": false,
          "task": false
        }
      },
      "source": [
        "## 1. Create a function named `dh(f, h, x)`\n",
        "The function `dh(f, h, x)` takes three parameters as input: \n",
        "1. a function `f`, \n",
        "2. a value `h`, and \n",
        "3. a set of values `x`. \n",
        "\n",
        "It returns the derivatives of the function at each elements of array `x` using the Central Difference method. This calculates equation $(5.1)$."
      ]
    },
    {
      "cell_type": "code",
      "execution_count": null,
      "metadata": {
        "deletable": false,
        "id": "F6BRYPykniIx",
        "nbgrader": {
          "cell_type": "code",
          "checksum": "ab90e121daa8121cebfdad5227aee5fa",
          "grade": false,
          "grade_id": "cell-69d7eccf1727ad43",
          "locked": false,
          "schema_version": 3,
          "solution": true,
          "task": false
        }
      },
      "outputs": [],
      "source": [
        "def dh(f, h, x):\n",
        "    '''\n",
        "    Input:\n",
        "        f: np.polynomial.Polynonimial type data. \n",
        "        h: floating point data.\n",
        "        x: np.array type data.\n",
        "    Output:\n",
        "        return np.array type data of slope at each point x.\n",
        "    '''\n",
        "    # --------------------------------------------\n",
        "    # YOUR CODE HERE\n",
        "    return (f(x+h) - f(x-h))/(2*h)\n",
        "    # --------------------------------------------"
      ]
    },
    {
      "cell_type": "markdown",
      "metadata": {
        "deletable": false,
        "editable": false,
        "id": "QNCZ1QxyniIy",
        "nbgrader": {
          "cell_type": "markdown",
          "checksum": "36b3dddc8be0efb9a97fb5768d9d8ced",
          "grade": false,
          "grade_id": "cell-0c13cf39da895e01",
          "locked": true,
          "schema_version": 3,
          "solution": false,
          "task": false
        }
      },
      "source": [
        "## 2. Create another funtion `dh1(f, h, x)`.\n",
        "The function `dh1(f, h, x)` takes the same type of values as `dh(f, h, x)` as input. It calculates the derivative using previously defined `dh(f, h, x)` function and using equation $5.8$ and returns the values."
      ]
    },
    {
      "cell_type": "code",
      "execution_count": null,
      "metadata": {
        "deletable": false,
        "id": "tM6YOR3hniIy",
        "nbgrader": {
          "cell_type": "code",
          "checksum": "6ae95f8d4c68cb8306001ca5f9752220",
          "grade": false,
          "grade_id": "cell-ed364c63e8c23e35",
          "locked": false,
          "schema_version": 3,
          "solution": true,
          "task": false
        }
      },
      "outputs": [],
      "source": [
        "def dh1(f, h, x):\n",
        "    '''\n",
        "    Input:\n",
        "        f: np.polynomial.Polynonimial type data. \n",
        "        h: floating point data.\n",
        "        x: np.array type data.\n",
        "    Output:\n",
        "        return np.array type data of slope at each point x.\n",
        "    '''\n",
        "    # --------------------------------------------\n",
        "    # YOUR CODE HERE\n",
        "    return ((4*(dh(f,h/2,x)))-(dh(f,h,x)))/3\n",
        "    # --------------------------------------------"
      ]
    },
    {
      "cell_type": "markdown",
      "metadata": {
        "deletable": false,
        "editable": false,
        "id": "Zt4qjdMVniIy",
        "nbgrader": {
          "cell_type": "markdown",
          "checksum": "7d794eaafc49abd1e798a85026114d67",
          "grade": false,
          "grade_id": "cell-4eb597d5a4be4420",
          "locked": true,
          "schema_version": 3,
          "solution": false,
          "task": false
        }
      },
      "source": [
        "## 3. Now, create the `error(f, hs, x_i)` function\n",
        "The `error(f, hs, x_i)` function takes a function `f` as input. It also takes a list of different values of h as `hs` and a specific value as `x_i` as input. It calculates the derivatives as point `x_i` using both functions described in **B** and **C**, i.e. `dh` and `dh1`."
      ]
    },
    {
      "cell_type": "code",
      "execution_count": null,
      "metadata": {
        "deletable": false,
        "id": "0JyAd9TcniIy",
        "nbgrader": {
          "cell_type": "code",
          "checksum": "57af2549c86921869eab0881ae72fd42",
          "grade": false,
          "grade_id": "cell-4aef4fe1b49d44da",
          "locked": false,
          "schema_version": 3,
          "solution": true,
          "task": false
        }
      },
      "outputs": [],
      "source": [
        "def error_2(f, hs, x_i):  #Using the functions we wrote dh() my c_diff  and dh1() which is my first order c diff, we find the error through appending their diffrences with Y_actual ny f(x)\n",
        "    '''\n",
        "    Input:\n",
        "        f  : np.polynomial.Polynonimial type data. \n",
        "        hs : np.array type data. list of h.\n",
        "        x_i: floating point data. single value of x.\n",
        "    Output:\n",
        "        return two np.array type data of errors by two methods..\n",
        "    '''\n",
        "    f_prime = f.deriv(1)   #first order derivitive f^1(x)\n",
        "    Y_actual = f_prime(x_i)  \n",
        "\n",
        "    diff_error = []\n",
        "    diff2_error = []\n",
        "\n",
        "    for h in hs: #where h is my loop counter iterating through hs\n",
        "        # for each values of hs calculate the error using both methods\n",
        "        # and append those values into diff_error and diff2_error list.\n",
        "\n",
        "        # --------------------------------------------\n",
        "        # YOUR CODE HERE\n",
        "        diff_error_hs = dh(f, h, x_i) - Y_actual \n",
        "        diff_error = np.append(diff_error, diff_error_hs)\n",
        "        diff2_error_hs = dh1(f, h, x_i) - Y_actual \n",
        "        diff2_error = np.append(diff2_error, diff2_error_hs)\n",
        "        # --------------------------------------------\n",
        "        \n",
        "    print(pd.DataFrame({\"h\": hs, \"Diff\": diff_error, \"Diff2\": diff2_error}))\n",
        "\n",
        "    return diff_error, diff2_error"
      ]
    },
    {
      "cell_type": "markdown",
      "metadata": {
        "deletable": false,
        "editable": false,
        "id": "4mkvTZcqniIz",
        "nbgrader": {
          "cell_type": "markdown",
          "checksum": "e1e6e88bb67c3769e422424e3b101ce3",
          "grade": false,
          "grade_id": "cell-ed3e46dc9c1804fd",
          "locked": true,
          "schema_version": 3,
          "solution": false,
          "task": false
        }
      },
      "source": [
        "## 4. Finally, run the following tests\n",
        "function to draw the actual function.\n",
        "\n",
        "### Draw the polynomial and it's actual derivative function"
      ]
    },
    {
      "cell_type": "code",
      "execution_count": null,
      "metadata": {
        "deletable": false,
        "editable": false,
        "id": "AGdx3IhxniIz",
        "nbgrader": {
          "cell_type": "code",
          "checksum": "98c555e4aede6188c8531178d3013480",
          "grade": false,
          "grade_id": "cell-0da2679376673916",
          "locked": true,
          "schema_version": 3,
          "solution": false,
          "task": false
        },
        "outputId": "30f89542-76c2-42dd-f447-475c60b0301c"
      },
      "outputs": [
        {
          "data": {
            "text/plain": [
              "<matplotlib.legend.Legend at 0x7f98d93408b0>"
            ]
          },
          "execution_count": 50,
          "metadata": {},
          "output_type": "execute_result"
        },
        {
          "data": {
            "image/png": "[encoded data removed]",
            "text/plain": [
              "<Figure size 432x288 with 1 Axes>"
            ]
          },
          "metadata": {
            "needs_background": "light"
          },
          "output_type": "display_data"
        }
      ],
      "source": [
        "def draw_graph(f, ax, domain=[-10, 10], label=None):\n",
        "    data = f.linspace(domain=domain)\n",
        "    ax.plot(data[0], data[1], label=label)\n",
        "\n",
        "fig, ax = plt.subplots()\n",
        "ax.axhline(y=0, color='k')\n",
        "\n",
        "p = Polynomial([3.0, 4.0, -14.0, -10.0, 3.0, 1.5])\n",
        "p_prime = p.deriv(1)\n",
        "draw_graph(p, ax, [-2.5, 2.0], 'Function')\n",
        "draw_graph(p_prime, ax, [-2.5, 2.0], 'Derivative')\n",
        "\n",
        "ax.legend()"
      ]
    },
    {
      "cell_type": "markdown",
      "metadata": {
        "deletable": false,
        "editable": false,
        "id": "EgK7NagOniIz",
        "nbgrader": {
          "cell_type": "markdown",
          "checksum": "ebcddecf0623331e7f7147da731c67a8",
          "grade": false,
          "grade_id": "cell-d291e8def1fd93fe",
          "locked": true,
          "schema_version": 3,
          "solution": false,
          "task": false
        }
      },
      "source": [
        "### Draw the actual derivative and richardson derivative using `h=1.5` and `h=0.1` as step size."
      ]
    },
    {
      "cell_type": "code",
      "execution_count": null,
      "metadata": {
        "deletable": false,
        "editable": false,
        "id": "qlx3Y_e3niIz",
        "nbgrader": {
          "cell_type": "code",
          "checksum": "fae4bb70108b896682a6950fc66b0f1a",
          "grade": true,
          "grade_id": "cell-a55ea4a66a38f4e1",
          "locked": true,
          "points": 6,
          "schema_version": 3,
          "solution": false,
          "task": false
        },
        "outputId": "706d3ff1-dbc3-46a5-e697-851873c2c9ee"
      },
      "outputs": [
        {
          "data": {
            "text/plain": [
              "<matplotlib.legend.Legend at 0x7f98c86475b0>"
            ]
          },
          "execution_count": 51,
          "metadata": {},
          "output_type": "execute_result"
        },
        {
          "data": {
            "image/png": "[encoded data removed]",
            "text/plain": [
              "<Figure size 432x288 with 1 Axes>"
            ]
          },
          "metadata": {
            "needs_background": "light"
          },
          "output_type": "display_data"
        }
      ],
      "source": [
        "fig, ax = plt.subplots()\n",
        "ax.axhline(y=0, color='k')\n",
        "\n",
        "draw_graph(p_prime, ax, [-2.5, 2.0], 'actual')\n",
        "\n",
        "h = 1.5\n",
        "x = np.linspace(-2.5, 2.0, 50, endpoint=True)\n",
        "y = dh1(p, h, x)\n",
        "ax.plot(x, y, label='Richardson; h=1.5')\n",
        "\n",
        "h = 0.1\n",
        "x = np.linspace(-2.5, 2.0, 50, endpoint=True)\n",
        "y = dh1(p, h, x)\n",
        "ax.plot(x, y, label='Richardson; h=0.1')\n",
        "\n",
        "ax.legend()\n"
      ]
    },
    {
      "cell_type": "markdown",
      "metadata": {
        "deletable": false,
        "editable": false,
        "id": "KShe_FjPniIz",
        "nbgrader": {
          "cell_type": "markdown",
          "checksum": "efabbb55aa021747d9bbdd2c0bfda2be",
          "grade": false,
          "grade_id": "cell-aa732ac513c32594",
          "locked": true,
          "schema_version": 3,
          "solution": false,
          "task": false
        }
      },
      "source": [
        "### Draw error-vs-h cuve"
      ]
    },
    {
      "cell_type": "code",
      "execution_count": null,
      "metadata": {
        "deletable": false,
        "editable": false,
        "id": "tjnPCoD5niI0",
        "nbgrader": {
          "cell_type": "code",
          "checksum": "c3e2d5ef6eb54fa473d58d8ec6af67f3",
          "grade": true,
          "grade_id": "cell-47f9daf2fe2b2d07",
          "locked": true,
          "points": 6,
          "schema_version": 3,
          "solution": false,
          "task": false
        },
        "outputId": "85362e45-70b1-4d4e-f5f6-ad21f355db4d"
      },
      "outputs": [
        {
          "name": "stdout",
          "output_type": "stream",
          "text": [
            "       h         Diff         Diff2\n",
            "0  3.500  1131.593750 -5.627344e+01\n",
            "1  0.550    22.522259 -3.431484e-02\n",
            "2  0.300     6.672150 -3.037500e-03\n",
            "3  0.170     2.139853 -3.132038e-04\n",
            "4  0.100     0.740150 -3.750000e-05\n",
            "5  0.055     0.223864 -3.431485e-06\n",
            "6  0.030     0.066601 -3.037501e-07\n",
            "7  0.017     0.021386 -3.131791e-08\n",
            "8  0.010     0.007400 -3.749470e-09\n"
          ]
        },
        {
          "data": {
            "text/plain": [
              "<matplotlib.legend.Legend at 0x7f98d966c880>"
            ]
          },
          "execution_count": 52,
          "metadata": {},
          "output_type": "execute_result"
        },
        {
          "data": {
            "image/png": "[encoded data removed]",
            "text/plain": [
              "<Figure size 432x288 with 1 Axes>"
            ]
          },
          "metadata": {
            "needs_background": "light"
          },
          "output_type": "display_data"
        }
      ],
      "source": [
        "fig, ax = plt.subplots()\n",
        "ax.axhline(y=0, color='k')\n",
        "hs = np.array([3.5, 0.55, 0.3, .17, 0.1, 0.055, 0.03, 0.017, 0.01])\n",
        "e1, e2 = error_2(p, hs, 2.0)\n",
        "ax.plot(hs, e1, label='dh')\n",
        "ax.plot(hs, e2, label='dh1')\n",
        "\n",
        "ax.legend()\n"
      ]
    },
    {
      "cell_type": "markdown",
      "metadata": {
        "id": "FJHC_pIv1SAp"
      },
      "source": [
        "### **Homework**\n",
        "\n",
        "Using the polynomial from **Part-2**, **error_1** function from Part-1 and **error_2** function from Part-2, find the differentiation errors when\n",
        "*   hs = [3.5, 0.55, 0.3, .17, 0.1, 0.055, 0.03, 0.017, 0.01], and \n",
        "*   x = 2.0\n",
        "\n",
        "Plot \"error vs h\" curves for each of the five errors in a single graph\n",
        "(There should be plots of 5 equations in your graph, i.e., graphs for errors that you achieved using functions of central, forward, backward, dh and dh1 methods)."
      ]
    }
  ],
  "metadata": {
    "colab": {
      "provenance": []
    },
    "kernelspec": {
      "display_name": "Python 3 (ipykernel)",
      "language": "python",
      "name": "python3"
    },
    "language_info": {
      "codemirror_mode": {
        "name": "ipython",
        "version": 3
      },
      "file_extension": ".py",
      "mimetype": "text/x-python",
      "name": "python",
      "nbconvert_exporter": "python",
      "pygments_lexer": "ipython3",
      "version": "3.9.7"
    }
  },
  "nbformat": 4,
  "nbformat_minor": 0
}